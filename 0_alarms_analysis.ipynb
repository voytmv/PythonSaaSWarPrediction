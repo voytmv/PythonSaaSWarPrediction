{
 "cells": [
  {
   "cell_type": "code",
   "execution_count": 47,
   "id": "9c47caf3",
   "metadata": {},
   "outputs": [],
   "source": [
    "import pandas as pd\n",
    "import numpy as np\n",
    "import matplotlib.pyplot as plt\n",
    "import seaborn as sns"
   ]
  },
  {
   "cell_type": "code",
   "execution_count": 48,
   "id": "371ca437",
   "metadata": {},
   "outputs": [],
   "source": [
    "EVENTS_DATA_FOLDER = \"data/raw_other_date_0\"\n",
    "DATA_FILE_ALARMS = \"alarms.csv\""
   ]
  },
  {
   "cell_type": "markdown",
   "id": "e1c87333",
   "metadata": {},
   "source": [
    "# Alarms analysis"
   ]
  },
  {
   "cell_type": "code",
   "execution_count": 49,
   "id": "5a8382bb",
   "metadata": {},
   "outputs": [],
   "source": [
    "df = pd.read_csv(f\"{EVENTS_DATA_FOLDER}/{DATA_FILE_ALARMS}\", sep=\";\")"
   ]
  },
  {
   "cell_type": "code",
   "execution_count": 50,
   "id": "b193e98e",
   "metadata": {},
   "outputs": [
    {
     "data": {
      "text/html": [
       "<div>\n",
       "<style scoped>\n",
       "    .dataframe tbody tr th:only-of-type {\n",
       "        vertical-align: middle;\n",
       "    }\n",
       "\n",
       "    .dataframe tbody tr th {\n",
       "        vertical-align: top;\n",
       "    }\n",
       "\n",
       "    .dataframe thead th {\n",
       "        text-align: right;\n",
       "    }\n",
       "</style>\n",
       "<table border=\"1\" class=\"dataframe\">\n",
       "  <thead>\n",
       "    <tr style=\"text-align: right;\">\n",
       "      <th></th>\n",
       "      <th>id</th>\n",
       "      <th>region_id</th>\n",
       "      <th>region_title</th>\n",
       "      <th>region_city</th>\n",
       "      <th>all_region</th>\n",
       "      <th>start</th>\n",
       "      <th>end</th>\n",
       "      <th>clean_end</th>\n",
       "      <th>intersection_alarm_id</th>\n",
       "    </tr>\n",
       "  </thead>\n",
       "  <tbody>\n",
       "    <tr>\n",
       "      <th>0</th>\n",
       "      <td>2</td>\n",
       "      <td>3</td>\n",
       "      <td>Вінниччина</td>\n",
       "      <td>Вінниця</td>\n",
       "      <td>0</td>\n",
       "      <td>2022-02-25 22:55:42</td>\n",
       "      <td>2022-02-25 23:41:53</td>\n",
       "      <td>2022-02-25 23:41:53</td>\n",
       "      <td>NaN</td>\n",
       "    </tr>\n",
       "    <tr>\n",
       "      <th>1</th>\n",
       "      <td>4</td>\n",
       "      <td>12</td>\n",
       "      <td>Львівщина</td>\n",
       "      <td>Львів</td>\n",
       "      <td>0</td>\n",
       "      <td>2022-02-26 06:26:17</td>\n",
       "      <td>2022-02-26 07:15:28</td>\n",
       "      <td>2022-02-26 07:15:28</td>\n",
       "      <td>NaN</td>\n",
       "    </tr>\n",
       "    <tr>\n",
       "      <th>2</th>\n",
       "      <td>5</td>\n",
       "      <td>14</td>\n",
       "      <td>Одещина</td>\n",
       "      <td>Одеса</td>\n",
       "      <td>0</td>\n",
       "      <td>2022-02-26 07:16:58</td>\n",
       "      <td>2022-02-26 07:47:03</td>\n",
       "      <td>2022-02-26 07:47:03</td>\n",
       "      <td>NaN</td>\n",
       "    </tr>\n",
       "    <tr>\n",
       "      <th>3</th>\n",
       "      <td>6</td>\n",
       "      <td>6</td>\n",
       "      <td>Житомирщина</td>\n",
       "      <td>Житомир</td>\n",
       "      <td>0</td>\n",
       "      <td>2022-02-26 08:05:54</td>\n",
       "      <td>2022-02-26 09:36:36</td>\n",
       "      <td>2022-02-26 09:36:36</td>\n",
       "      <td>NaN</td>\n",
       "    </tr>\n",
       "    <tr>\n",
       "      <th>4</th>\n",
       "      <td>7</td>\n",
       "      <td>3</td>\n",
       "      <td>Вінниччина</td>\n",
       "      <td>Вінниця</td>\n",
       "      <td>0</td>\n",
       "      <td>2022-02-26 08:39:39</td>\n",
       "      <td>2022-02-26 10:42:41</td>\n",
       "      <td>2022-02-26 10:42:41</td>\n",
       "      <td>NaN</td>\n",
       "    </tr>\n",
       "    <tr>\n",
       "      <th>5</th>\n",
       "      <td>9</td>\n",
       "      <td>3</td>\n",
       "      <td>Вінниччина</td>\n",
       "      <td>Вінниця</td>\n",
       "      <td>0</td>\n",
       "      <td>2022-02-26 10:58:23</td>\n",
       "      <td>2022-02-26 11:59:40</td>\n",
       "      <td>2022-02-26 11:59:40</td>\n",
       "      <td>NaN</td>\n",
       "    </tr>\n",
       "    <tr>\n",
       "      <th>6</th>\n",
       "      <td>10</td>\n",
       "      <td>12</td>\n",
       "      <td>Львівщина</td>\n",
       "      <td>Львів</td>\n",
       "      <td>0</td>\n",
       "      <td>2022-02-26 13:44:44</td>\n",
       "      <td>2022-02-26 14:27:25</td>\n",
       "      <td>2022-02-26 14:27:25</td>\n",
       "      <td>NaN</td>\n",
       "    </tr>\n",
       "    <tr>\n",
       "      <th>7</th>\n",
       "      <td>3</td>\n",
       "      <td>16</td>\n",
       "      <td>Рівненщина</td>\n",
       "      <td>Рівненська обл.</td>\n",
       "      <td>1</td>\n",
       "      <td>2022-02-26 15:54:53</td>\n",
       "      <td>2022-02-26 16:14:46</td>\n",
       "      <td>2022-02-26 16:14:46</td>\n",
       "      <td>NaN</td>\n",
       "    </tr>\n",
       "    <tr>\n",
       "      <th>8</th>\n",
       "      <td>1</td>\n",
       "      <td>2</td>\n",
       "      <td>Волинь</td>\n",
       "      <td>Волинська обл.</td>\n",
       "      <td>1</td>\n",
       "      <td>2022-02-26 16:08:26</td>\n",
       "      <td>2022-02-26 16:39:26</td>\n",
       "      <td>2022-02-26 16:39:26</td>\n",
       "      <td>NaN</td>\n",
       "    </tr>\n",
       "    <tr>\n",
       "      <th>9</th>\n",
       "      <td>11</td>\n",
       "      <td>21</td>\n",
       "      <td>Хмельниччина</td>\n",
       "      <td>Деражня</td>\n",
       "      <td>0</td>\n",
       "      <td>2022-02-26 16:10:29</td>\n",
       "      <td>2022-02-26 17:19:57</td>\n",
       "      <td>2022-02-26 17:19:57</td>\n",
       "      <td>NaN</td>\n",
       "    </tr>\n",
       "  </tbody>\n",
       "</table>\n",
       "</div>"
      ],
      "text/plain": [
       "   id  region_id  region_title      region_city  all_region  \\\n",
       "0   2          3    Вінниччина          Вінниця           0   \n",
       "1   4         12     Львівщина            Львів           0   \n",
       "2   5         14       Одещина            Одеса           0   \n",
       "3   6          6   Житомирщина          Житомир           0   \n",
       "4   7          3    Вінниччина          Вінниця           0   \n",
       "5   9          3    Вінниччина          Вінниця           0   \n",
       "6  10         12     Львівщина            Львів           0   \n",
       "7   3         16    Рівненщина  Рівненська обл.           1   \n",
       "8   1          2        Волинь   Волинська обл.           1   \n",
       "9  11         21  Хмельниччина          Деражня           0   \n",
       "\n",
       "                 start                  end            clean_end  \\\n",
       "0  2022-02-25 22:55:42  2022-02-25 23:41:53  2022-02-25 23:41:53   \n",
       "1  2022-02-26 06:26:17  2022-02-26 07:15:28  2022-02-26 07:15:28   \n",
       "2  2022-02-26 07:16:58  2022-02-26 07:47:03  2022-02-26 07:47:03   \n",
       "3  2022-02-26 08:05:54  2022-02-26 09:36:36  2022-02-26 09:36:36   \n",
       "4  2022-02-26 08:39:39  2022-02-26 10:42:41  2022-02-26 10:42:41   \n",
       "5  2022-02-26 10:58:23  2022-02-26 11:59:40  2022-02-26 11:59:40   \n",
       "6  2022-02-26 13:44:44  2022-02-26 14:27:25  2022-02-26 14:27:25   \n",
       "7  2022-02-26 15:54:53  2022-02-26 16:14:46  2022-02-26 16:14:46   \n",
       "8  2022-02-26 16:08:26  2022-02-26 16:39:26  2022-02-26 16:39:26   \n",
       "9  2022-02-26 16:10:29  2022-02-26 17:19:57  2022-02-26 17:19:57   \n",
       "\n",
       "   intersection_alarm_id  \n",
       "0                    NaN  \n",
       "1                    NaN  \n",
       "2                    NaN  \n",
       "3                    NaN  \n",
       "4                    NaN  \n",
       "5                    NaN  \n",
       "6                    NaN  \n",
       "7                    NaN  \n",
       "8                    NaN  \n",
       "9                    NaN  "
      ]
     },
     "execution_count": 50,
     "metadata": {},
     "output_type": "execute_result"
    }
   ],
   "source": [
    "df.head(10)"
   ]
  },
  {
   "cell_type": "markdown",
   "id": "71fdb9c3",
   "metadata": {},
   "source": [
    "# Dataset size"
   ]
  },
  {
   "cell_type": "code",
   "execution_count": 51,
   "id": "6a0cee09",
   "metadata": {},
   "outputs": [
    {
     "data": {
      "text/plain": [
       "(19933, 9)"
      ]
     },
     "execution_count": 51,
     "metadata": {},
     "output_type": "execute_result"
    }
   ],
   "source": [
    "df.shape"
   ]
  },
  {
   "cell_type": "code",
   "execution_count": 52,
   "id": "f930ce7b",
   "metadata": {},
   "outputs": [
    {
     "data": {
      "text/html": [
       "<div>\n",
       "<style scoped>\n",
       "    .dataframe tbody tr th:only-of-type {\n",
       "        vertical-align: middle;\n",
       "    }\n",
       "\n",
       "    .dataframe tbody tr th {\n",
       "        vertical-align: top;\n",
       "    }\n",
       "\n",
       "    .dataframe thead th {\n",
       "        text-align: right;\n",
       "    }\n",
       "</style>\n",
       "<table border=\"1\" class=\"dataframe\">\n",
       "  <thead>\n",
       "    <tr style=\"text-align: right;\">\n",
       "      <th></th>\n",
       "      <th>id</th>\n",
       "      <th>region_id</th>\n",
       "      <th>all_region</th>\n",
       "      <th>intersection_alarm_id</th>\n",
       "    </tr>\n",
       "  </thead>\n",
       "  <tbody>\n",
       "    <tr>\n",
       "      <th>count</th>\n",
       "      <td>19933.000000</td>\n",
       "      <td>19933.000000</td>\n",
       "      <td>19933.000000</td>\n",
       "      <td>2098.000000</td>\n",
       "    </tr>\n",
       "    <tr>\n",
       "      <th>mean</th>\n",
       "      <td>19504.320925</td>\n",
       "      <td>11.159785</td>\n",
       "      <td>0.696283</td>\n",
       "      <td>14686.461868</td>\n",
       "    </tr>\n",
       "    <tr>\n",
       "      <th>std</th>\n",
       "      <td>14872.354802</td>\n",
       "      <td>6.374564</td>\n",
       "      <td>0.459874</td>\n",
       "      <td>12632.068063</td>\n",
       "    </tr>\n",
       "    <tr>\n",
       "      <th>min</th>\n",
       "      <td>1.000000</td>\n",
       "      <td>1.000000</td>\n",
       "      <td>0.000000</td>\n",
       "      <td>45.000000</td>\n",
       "    </tr>\n",
       "    <tr>\n",
       "      <th>25%</th>\n",
       "      <td>5106.000000</td>\n",
       "      <td>5.000000</td>\n",
       "      <td>0.000000</td>\n",
       "      <td>3826.500000</td>\n",
       "    </tr>\n",
       "    <tr>\n",
       "      <th>50%</th>\n",
       "      <td>17421.000000</td>\n",
       "      <td>10.000000</td>\n",
       "      <td>1.000000</td>\n",
       "      <td>10473.000000</td>\n",
       "    </tr>\n",
       "    <tr>\n",
       "      <th>75%</th>\n",
       "      <td>32528.000000</td>\n",
       "      <td>17.000000</td>\n",
       "      <td>1.000000</td>\n",
       "      <td>22397.000000</td>\n",
       "    </tr>\n",
       "    <tr>\n",
       "      <th>max</th>\n",
       "      <td>47547.000000</td>\n",
       "      <td>24.000000</td>\n",
       "      <td>1.000000</td>\n",
       "      <td>47488.000000</td>\n",
       "    </tr>\n",
       "  </tbody>\n",
       "</table>\n",
       "</div>"
      ],
      "text/plain": [
       "                 id     region_id    all_region  intersection_alarm_id\n",
       "count  19933.000000  19933.000000  19933.000000            2098.000000\n",
       "mean   19504.320925     11.159785      0.696283           14686.461868\n",
       "std    14872.354802      6.374564      0.459874           12632.068063\n",
       "min        1.000000      1.000000      0.000000              45.000000\n",
       "25%     5106.000000      5.000000      0.000000            3826.500000\n",
       "50%    17421.000000     10.000000      1.000000           10473.000000\n",
       "75%    32528.000000     17.000000      1.000000           22397.000000\n",
       "max    47547.000000     24.000000      1.000000           47488.000000"
      ]
     },
     "execution_count": 52,
     "metadata": {},
     "output_type": "execute_result"
    }
   ],
   "source": [
    "df.describe()"
   ]
  },
  {
   "cell_type": "code",
   "execution_count": 53,
   "id": "065944ad",
   "metadata": {},
   "outputs": [
    {
     "data": {
      "text/plain": [
       "id                         int64\n",
       "region_id                  int64\n",
       "region_title              object\n",
       "region_city               object\n",
       "all_region                 int64\n",
       "start                     object\n",
       "end                       object\n",
       "clean_end                 object\n",
       "intersection_alarm_id    float64\n",
       "dtype: object"
      ]
     },
     "execution_count": 53,
     "metadata": {},
     "output_type": "execute_result"
    }
   ],
   "source": [
    "df.dtypes"
   ]
  },
  {
   "cell_type": "markdown",
   "id": "49aaa891",
   "metadata": {},
   "source": [
    "## First alarm"
   ]
  },
  {
   "cell_type": "code",
   "execution_count": 54,
   "id": "e5eb53c8",
   "metadata": {},
   "outputs": [
    {
     "data": {
      "text/plain": [
       "'2022-02-25 22:55:42'"
      ]
     },
     "execution_count": 54,
     "metadata": {},
     "output_type": "execute_result"
    }
   ],
   "source": [
    "df.start.min()"
   ]
  },
  {
   "cell_type": "markdown",
   "id": "be729321",
   "metadata": {},
   "source": [
    "## Last alarm"
   ]
  },
  {
   "cell_type": "code",
   "execution_count": 55,
   "id": "a04d8a73",
   "metadata": {},
   "outputs": [
    {
     "data": {
      "text/plain": [
       "'2023-01-20 22:51:11'"
      ]
     },
     "execution_count": 55,
     "metadata": {},
     "output_type": "execute_result"
    }
   ],
   "source": [
    "df.start.max()"
   ]
  },
  {
   "cell_type": "markdown",
   "id": "22fc9000",
   "metadata": {},
   "source": [
    "## Alarms duration"
   ]
  },
  {
   "cell_type": "code",
   "execution_count": 56,
   "id": "a30cb7aa",
   "metadata": {},
   "outputs": [],
   "source": [
    "df [\"start_time\"] = pd.to_datetime(df[\"start\"])\n",
    "df [\"end_time\"] = pd.to_datetime(df[\"end\"])"
   ]
  },
  {
   "cell_type": "code",
   "execution_count": 57,
   "id": "9804cfad",
   "metadata": {},
   "outputs": [],
   "source": [
    "df [\"duration\"] = df[\"end_time\"] - df[\"start_time\"]"
   ]
  },
  {
   "cell_type": "code",
   "execution_count": 58,
   "id": "1e4ce2c6",
   "metadata": {},
   "outputs": [
    {
     "data": {
      "text/html": [
       "<div>\n",
       "<style scoped>\n",
       "    .dataframe tbody tr th:only-of-type {\n",
       "        vertical-align: middle;\n",
       "    }\n",
       "\n",
       "    .dataframe tbody tr th {\n",
       "        vertical-align: top;\n",
       "    }\n",
       "\n",
       "    .dataframe thead th {\n",
       "        text-align: right;\n",
       "    }\n",
       "</style>\n",
       "<table border=\"1\" class=\"dataframe\">\n",
       "  <thead>\n",
       "    <tr style=\"text-align: right;\">\n",
       "      <th></th>\n",
       "      <th>id</th>\n",
       "      <th>region_id</th>\n",
       "      <th>region_title</th>\n",
       "      <th>region_city</th>\n",
       "      <th>all_region</th>\n",
       "      <th>start</th>\n",
       "      <th>end</th>\n",
       "      <th>clean_end</th>\n",
       "      <th>intersection_alarm_id</th>\n",
       "      <th>start_time</th>\n",
       "      <th>end_time</th>\n",
       "      <th>duration</th>\n",
       "    </tr>\n",
       "  </thead>\n",
       "  <tbody>\n",
       "    <tr>\n",
       "      <th>0</th>\n",
       "      <td>2</td>\n",
       "      <td>3</td>\n",
       "      <td>Вінниччина</td>\n",
       "      <td>Вінниця</td>\n",
       "      <td>0</td>\n",
       "      <td>2022-02-25 22:55:42</td>\n",
       "      <td>2022-02-25 23:41:53</td>\n",
       "      <td>2022-02-25 23:41:53</td>\n",
       "      <td>NaN</td>\n",
       "      <td>2022-02-25 22:55:42</td>\n",
       "      <td>2022-02-25 23:41:53</td>\n",
       "      <td>0 days 00:46:11</td>\n",
       "    </tr>\n",
       "    <tr>\n",
       "      <th>1</th>\n",
       "      <td>4</td>\n",
       "      <td>12</td>\n",
       "      <td>Львівщина</td>\n",
       "      <td>Львів</td>\n",
       "      <td>0</td>\n",
       "      <td>2022-02-26 06:26:17</td>\n",
       "      <td>2022-02-26 07:15:28</td>\n",
       "      <td>2022-02-26 07:15:28</td>\n",
       "      <td>NaN</td>\n",
       "      <td>2022-02-26 06:26:17</td>\n",
       "      <td>2022-02-26 07:15:28</td>\n",
       "      <td>0 days 00:49:11</td>\n",
       "    </tr>\n",
       "    <tr>\n",
       "      <th>2</th>\n",
       "      <td>5</td>\n",
       "      <td>14</td>\n",
       "      <td>Одещина</td>\n",
       "      <td>Одеса</td>\n",
       "      <td>0</td>\n",
       "      <td>2022-02-26 07:16:58</td>\n",
       "      <td>2022-02-26 07:47:03</td>\n",
       "      <td>2022-02-26 07:47:03</td>\n",
       "      <td>NaN</td>\n",
       "      <td>2022-02-26 07:16:58</td>\n",
       "      <td>2022-02-26 07:47:03</td>\n",
       "      <td>0 days 00:30:05</td>\n",
       "    </tr>\n",
       "    <tr>\n",
       "      <th>3</th>\n",
       "      <td>6</td>\n",
       "      <td>6</td>\n",
       "      <td>Житомирщина</td>\n",
       "      <td>Житомир</td>\n",
       "      <td>0</td>\n",
       "      <td>2022-02-26 08:05:54</td>\n",
       "      <td>2022-02-26 09:36:36</td>\n",
       "      <td>2022-02-26 09:36:36</td>\n",
       "      <td>NaN</td>\n",
       "      <td>2022-02-26 08:05:54</td>\n",
       "      <td>2022-02-26 09:36:36</td>\n",
       "      <td>0 days 01:30:42</td>\n",
       "    </tr>\n",
       "    <tr>\n",
       "      <th>4</th>\n",
       "      <td>7</td>\n",
       "      <td>3</td>\n",
       "      <td>Вінниччина</td>\n",
       "      <td>Вінниця</td>\n",
       "      <td>0</td>\n",
       "      <td>2022-02-26 08:39:39</td>\n",
       "      <td>2022-02-26 10:42:41</td>\n",
       "      <td>2022-02-26 10:42:41</td>\n",
       "      <td>NaN</td>\n",
       "      <td>2022-02-26 08:39:39</td>\n",
       "      <td>2022-02-26 10:42:41</td>\n",
       "      <td>0 days 02:03:02</td>\n",
       "    </tr>\n",
       "    <tr>\n",
       "      <th>5</th>\n",
       "      <td>9</td>\n",
       "      <td>3</td>\n",
       "      <td>Вінниччина</td>\n",
       "      <td>Вінниця</td>\n",
       "      <td>0</td>\n",
       "      <td>2022-02-26 10:58:23</td>\n",
       "      <td>2022-02-26 11:59:40</td>\n",
       "      <td>2022-02-26 11:59:40</td>\n",
       "      <td>NaN</td>\n",
       "      <td>2022-02-26 10:58:23</td>\n",
       "      <td>2022-02-26 11:59:40</td>\n",
       "      <td>0 days 01:01:17</td>\n",
       "    </tr>\n",
       "    <tr>\n",
       "      <th>6</th>\n",
       "      <td>10</td>\n",
       "      <td>12</td>\n",
       "      <td>Львівщина</td>\n",
       "      <td>Львів</td>\n",
       "      <td>0</td>\n",
       "      <td>2022-02-26 13:44:44</td>\n",
       "      <td>2022-02-26 14:27:25</td>\n",
       "      <td>2022-02-26 14:27:25</td>\n",
       "      <td>NaN</td>\n",
       "      <td>2022-02-26 13:44:44</td>\n",
       "      <td>2022-02-26 14:27:25</td>\n",
       "      <td>0 days 00:42:41</td>\n",
       "    </tr>\n",
       "    <tr>\n",
       "      <th>7</th>\n",
       "      <td>3</td>\n",
       "      <td>16</td>\n",
       "      <td>Рівненщина</td>\n",
       "      <td>Рівненська обл.</td>\n",
       "      <td>1</td>\n",
       "      <td>2022-02-26 15:54:53</td>\n",
       "      <td>2022-02-26 16:14:46</td>\n",
       "      <td>2022-02-26 16:14:46</td>\n",
       "      <td>NaN</td>\n",
       "      <td>2022-02-26 15:54:53</td>\n",
       "      <td>2022-02-26 16:14:46</td>\n",
       "      <td>0 days 00:19:53</td>\n",
       "    </tr>\n",
       "    <tr>\n",
       "      <th>8</th>\n",
       "      <td>1</td>\n",
       "      <td>2</td>\n",
       "      <td>Волинь</td>\n",
       "      <td>Волинська обл.</td>\n",
       "      <td>1</td>\n",
       "      <td>2022-02-26 16:08:26</td>\n",
       "      <td>2022-02-26 16:39:26</td>\n",
       "      <td>2022-02-26 16:39:26</td>\n",
       "      <td>NaN</td>\n",
       "      <td>2022-02-26 16:08:26</td>\n",
       "      <td>2022-02-26 16:39:26</td>\n",
       "      <td>0 days 00:31:00</td>\n",
       "    </tr>\n",
       "    <tr>\n",
       "      <th>9</th>\n",
       "      <td>11</td>\n",
       "      <td>21</td>\n",
       "      <td>Хмельниччина</td>\n",
       "      <td>Деражня</td>\n",
       "      <td>0</td>\n",
       "      <td>2022-02-26 16:10:29</td>\n",
       "      <td>2022-02-26 17:19:57</td>\n",
       "      <td>2022-02-26 17:19:57</td>\n",
       "      <td>NaN</td>\n",
       "      <td>2022-02-26 16:10:29</td>\n",
       "      <td>2022-02-26 17:19:57</td>\n",
       "      <td>0 days 01:09:28</td>\n",
       "    </tr>\n",
       "  </tbody>\n",
       "</table>\n",
       "</div>"
      ],
      "text/plain": [
       "   id  region_id  region_title      region_city  all_region  \\\n",
       "0   2          3    Вінниччина          Вінниця           0   \n",
       "1   4         12     Львівщина            Львів           0   \n",
       "2   5         14       Одещина            Одеса           0   \n",
       "3   6          6   Житомирщина          Житомир           0   \n",
       "4   7          3    Вінниччина          Вінниця           0   \n",
       "5   9          3    Вінниччина          Вінниця           0   \n",
       "6  10         12     Львівщина            Львів           0   \n",
       "7   3         16    Рівненщина  Рівненська обл.           1   \n",
       "8   1          2        Волинь   Волинська обл.           1   \n",
       "9  11         21  Хмельниччина          Деражня           0   \n",
       "\n",
       "                 start                  end            clean_end  \\\n",
       "0  2022-02-25 22:55:42  2022-02-25 23:41:53  2022-02-25 23:41:53   \n",
       "1  2022-02-26 06:26:17  2022-02-26 07:15:28  2022-02-26 07:15:28   \n",
       "2  2022-02-26 07:16:58  2022-02-26 07:47:03  2022-02-26 07:47:03   \n",
       "3  2022-02-26 08:05:54  2022-02-26 09:36:36  2022-02-26 09:36:36   \n",
       "4  2022-02-26 08:39:39  2022-02-26 10:42:41  2022-02-26 10:42:41   \n",
       "5  2022-02-26 10:58:23  2022-02-26 11:59:40  2022-02-26 11:59:40   \n",
       "6  2022-02-26 13:44:44  2022-02-26 14:27:25  2022-02-26 14:27:25   \n",
       "7  2022-02-26 15:54:53  2022-02-26 16:14:46  2022-02-26 16:14:46   \n",
       "8  2022-02-26 16:08:26  2022-02-26 16:39:26  2022-02-26 16:39:26   \n",
       "9  2022-02-26 16:10:29  2022-02-26 17:19:57  2022-02-26 17:19:57   \n",
       "\n",
       "   intersection_alarm_id          start_time            end_time  \\\n",
       "0                    NaN 2022-02-25 22:55:42 2022-02-25 23:41:53   \n",
       "1                    NaN 2022-02-26 06:26:17 2022-02-26 07:15:28   \n",
       "2                    NaN 2022-02-26 07:16:58 2022-02-26 07:47:03   \n",
       "3                    NaN 2022-02-26 08:05:54 2022-02-26 09:36:36   \n",
       "4                    NaN 2022-02-26 08:39:39 2022-02-26 10:42:41   \n",
       "5                    NaN 2022-02-26 10:58:23 2022-02-26 11:59:40   \n",
       "6                    NaN 2022-02-26 13:44:44 2022-02-26 14:27:25   \n",
       "7                    NaN 2022-02-26 15:54:53 2022-02-26 16:14:46   \n",
       "8                    NaN 2022-02-26 16:08:26 2022-02-26 16:39:26   \n",
       "9                    NaN 2022-02-26 16:10:29 2022-02-26 17:19:57   \n",
       "\n",
       "         duration  \n",
       "0 0 days 00:46:11  \n",
       "1 0 days 00:49:11  \n",
       "2 0 days 00:30:05  \n",
       "3 0 days 01:30:42  \n",
       "4 0 days 02:03:02  \n",
       "5 0 days 01:01:17  \n",
       "6 0 days 00:42:41  \n",
       "7 0 days 00:19:53  \n",
       "8 0 days 00:31:00  \n",
       "9 0 days 01:09:28  "
      ]
     },
     "execution_count": 58,
     "metadata": {},
     "output_type": "execute_result"
    }
   ],
   "source": [
    "df.head(10)"
   ]
  },
  {
   "cell_type": "code",
   "execution_count": 59,
   "id": "af8b8701",
   "metadata": {},
   "outputs": [
    {
     "name": "stdout",
     "output_type": "stream",
     "text": [
      "min 0 days 00:00:27\n",
      "mean 0 days 00:57:13.917573872\n",
      "max 0 days 18:43:08\n"
     ]
    }
   ],
   "source": [
    "print(\"min\", df[\"duration\"].min())\n",
    "print(\"mean\", df[\"duration\"].mean())\n",
    "print(\"max\", df[\"duration\"].max())"
   ]
  },
  {
   "cell_type": "code",
   "execution_count": 60,
   "id": "ad911456",
   "metadata": {},
   "outputs": [],
   "source": [
    "df[\"duration_minutes\"] = df[\"duration\"]/np.timedelta64(1,'m')\n",
    "df[\"x_1\"] = 1"
   ]
  },
  {
   "cell_type": "code",
   "execution_count": 61,
   "id": "5587e3a4",
   "metadata": {},
   "outputs": [
    {
     "data": {
      "image/png": "[encoded data removed]",
      "text/plain": [
       "<Figure size 1000x400 with 1 Axes>"
      ]
     },
     "metadata": {},
     "output_type": "display_data"
    }
   ],
   "source": [
    "fig = plt.figure(figsize = (10, 4))\n",
    "\n",
    "#Create plot\n",
    "plt.boxplot(df[\"duration_minutes\"], vert = False)\n",
    "plt.ylabel(\"alerts\")\n",
    "plt.xlabel(\"duration in minutes\")\n",
    "plt.scatter(df[\"duration_minutes\"], df[\"x_1\"])\n",
    "\n",
    "#show plot\n",
    "plt.show()"
   ]
  },
  {
   "cell_type": "code",
   "execution_count": 62,
   "id": "27814d24",
   "metadata": {},
   "outputs": [
    {
     "data": {
      "text/plain": [
       "<Axes: xlabel='duration_minutes'>"
      ]
     },
     "execution_count": 62,
     "metadata": {},
     "output_type": "execute_result"
    },
    {
     "data": {
      "image/png": "[encoded data removed]",
      "text/plain": [
       "<Figure size 640x480 with 1 Axes>"
      ]
     },
     "metadata": {},
     "output_type": "display_data"
    }
   ],
   "source": [
    "sns.boxplot(x = df[\"duration_minutes\"])"
   ]
  },
  {
   "cell_type": "code",
   "execution_count": 63,
   "id": "3bfcc99f",
   "metadata": {},
   "outputs": [
    {
     "data": {
      "text/plain": [
       "<Axes: xlabel='duration_minutes', ylabel='region_title'>"
      ]
     },
     "execution_count": 63,
     "metadata": {},
     "output_type": "execute_result"
    },
    {
     "data": {
      "image/png": "[encoded data removed]",
      "text/plain": [
       "<Figure size 640x480 with 1 Axes>"
      ]
     },
     "metadata": {},
     "output_type": "display_data"
    }
   ],
   "source": [
    "sns.boxplot(data = df, x = \"duration_minutes\", y = \"region_title\")"
   ]
  },
  {
   "cell_type": "code",
   "execution_count": 64,
   "id": "9523999e",
   "metadata": {},
   "outputs": [
    {
     "data": {
      "text/plain": [
       "️Донеччина           3490\n",
       "Харківщина           1619\n",
       "Дніпропетровщина     1591\n",
       "Київщина             1540\n",
       "Миколаївщина         1536\n",
       "Запоріжжя            1335\n",
       "Кіровоградщина       1112\n",
       "Полтавщина            979\n",
       "Черкащина             784\n",
       "Житомирщина           710\n",
       "Одещина               688\n",
       "Сумщина               646\n",
       "Чернігівщина          623\n",
       "Вінниччина            514\n",
       "Хмельниччина          444\n",
       "Херсонщина            367\n",
       "Волинь                343\n",
       "Рівненщина            326\n",
       "Тернопільщина         295\n",
       "Львівщина             279\n",
       "Івано-Франківщина     277\n",
       "Буковина              225\n",
       "Закарпаття            210\n",
       "Name: region_title, dtype: int64"
      ]
     },
     "execution_count": 64,
     "metadata": {},
     "output_type": "execute_result"
    }
   ],
   "source": [
    "df[\"region_title\"].value_counts()"
   ]
  },
  {
   "cell_type": "code",
   "execution_count": 65,
   "id": "0688618c",
   "metadata": {},
   "outputs": [
    {
     "data": {
      "text/plain": [
       "<Axes: >"
      ]
     },
     "execution_count": 65,
     "metadata": {},
     "output_type": "execute_result"
    },
    {
     "data": {
      "image/png": "[encoded data removed]",
      "text/plain": [
       "<Figure size 640x480 with 1 Axes>"
      ]
     },
     "metadata": {},
     "output_type": "display_data"
    }
   ],
   "source": [
    "df[\"region_title\"].value_counts().plot(kind = 'bar')"
   ]
  },
  {
   "cell_type": "code",
   "execution_count": 66,
   "id": "4a26e2d3",
   "metadata": {},
   "outputs": [
    {
     "data": {
      "text/plain": [
       "23"
      ]
     },
     "execution_count": 66,
     "metadata": {},
     "output_type": "execute_result"
    }
   ],
   "source": [
    "df[\"region_title\"].nunique()"
   ]
  },
  {
   "cell_type": "code",
   "execution_count": 67,
   "id": "f238223b",
   "metadata": {},
   "outputs": [
    {
     "data": {
      "text/plain": [
       "174"
      ]
     },
     "execution_count": 67,
     "metadata": {},
     "output_type": "execute_result"
    }
   ],
   "source": [
    "df[\"region_city\"].nunique()"
   ]
  },
  {
   "cell_type": "code",
   "execution_count": 68,
   "id": "3dc73200",
   "metadata": {},
   "outputs": [
    {
     "data": {
      "text/plain": [
       "Харківська обл.          1527\n",
       "Донецька обл.            1334\n",
       "Запорізька обл.          1275\n",
       "Дніпропетровська обл.    1203\n",
       "Миколаївська обл.         877\n",
       "                         ... \n",
       "Білогородка                 1\n",
       "Тростянець                  1\n",
       "Веселівка                   1\n",
       "Куп'янськ                   1\n",
       "Циркуни                     1\n",
       "Name: region_city, Length: 174, dtype: int64"
      ]
     },
     "execution_count": 68,
     "metadata": {},
     "output_type": "execute_result"
    }
   ],
   "source": [
    "df[\"region_city\"].value_counts()"
   ]
  },
  {
   "cell_type": "code",
   "execution_count": 71,
   "id": "b9d8ccbf",
   "metadata": {},
   "outputs": [
    {
     "data": {
      "text/plain": [
       "<Axes: >"
      ]
     },
     "execution_count": 71,
     "metadata": {},
     "output_type": "execute_result"
    },
    {
     "data": {
      "image/png": "[encoded data removed]",
      "text/plain": [
       "<Figure size 640x480 with 1 Axes>"
      ]
     },
     "metadata": {},
     "output_type": "display_data"
    }
   ],
   "source": [
    "df[\"all_region\"].value_counts().plot(kind = 'bar')"
   ]
  },
  {
   "cell_type": "code",
   "execution_count": 73,
   "id": "236a8cb4",
   "metadata": {},
   "outputs": [
    {
     "data": {
      "text/plain": [
       "1262"
      ]
     },
     "execution_count": 73,
     "metadata": {},
     "output_type": "execute_result"
    }
   ],
   "source": [
    "df[\"intersection_alarm_id\"].nunique()"
   ]
  },
  {
   "cell_type": "code",
   "execution_count": 74,
   "id": "5b1f6f36",
   "metadata": {},
   "outputs": [
    {
     "data": {
      "text/plain": [
       "(605, 14)"
      ]
     },
     "execution_count": 74,
     "metadata": {},
     "output_type": "execute_result"
    }
   ],
   "source": [
    "df[df[\"region_city\"] == \"Київ\"].shape"
   ]
  },
  {
   "cell_type": "code",
   "execution_count": 75,
   "id": "2fb5a572",
   "metadata": {},
   "outputs": [
    {
     "data": {
      "text/plain": [
       "666.6872222222222"
      ]
     },
     "execution_count": 75,
     "metadata": {},
     "output_type": "execute_result"
    }
   ],
   "source": [
    "df[df[\"region_city\"] == \"Київ\"][\"duration_minutes\"].sum()/60"
   ]
  },
  {
   "cell_type": "code",
   "execution_count": 77,
   "id": "3af0729c",
   "metadata": {},
   "outputs": [
    {
     "data": {
      "text/plain": [
       "174"
      ]
     },
     "execution_count": 77,
     "metadata": {},
     "output_type": "execute_result"
    }
   ],
   "source": [
    "df[\"region_city\"].nunique()"
   ]
  }
 ],
 "metadata": {
  "kernelspec": {
   "display_name": "Python 3 (ipykernel)",
   "language": "python",
   "name": "python3"
  },
  "language_info": {
   "codemirror_mode": {
    "name": "ipython",
    "version": 3
   },
   "file_extension": ".py",
   "mimetype": "text/x-python",
   "name": "python",
   "nbconvert_exporter": "python",
   "pygments_lexer": "ipython3",
   "version": "3.8.0"
  }
 },
 "nbformat": 4,
 "nbformat_minor": 5
}
